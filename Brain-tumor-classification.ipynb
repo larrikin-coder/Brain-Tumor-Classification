{
 "cells": [
  {
   "cell_type": "code",
   "execution_count": 3,
   "id": "f9cfd5a4-74d6-4e87-b84a-1f46cf1245c8",
   "metadata": {},
   "outputs": [
    {
     "name": "stdout",
     "output_type": "stream",
     "text": [
      "Defaulting to user installation because normal site-packages is not writeable\n",
      "Requirement already satisfied: numpy in c:\\users\\shaurya\\appdata\\roaming\\python\\python310\\site-packages (2.1.3)\n",
      "Requirement already satisfied: pandas in c:\\users\\shaurya\\appdata\\roaming\\python\\python310\\site-packages (2.3.2)\n",
      "Requirement already satisfied: opencv-python in c:\\users\\shaurya\\appdata\\roaming\\python\\python310\\site-packages (4.12.0.88)\n",
      "Requirement already satisfied: seaborn in c:\\users\\shaurya\\appdata\\roaming\\python\\python310\\site-packages (0.13.2)\n",
      "Requirement already satisfied: matplotlib in c:\\users\\shaurya\\appdata\\roaming\\python\\python310\\site-packages (3.10.5)\n",
      "Requirement already satisfied: tzdata>=2022.7 in c:\\users\\shaurya\\appdata\\roaming\\python\\python310\\site-packages (from pandas) (2025.2)\n",
      "Requirement already satisfied: python-dateutil>=2.8.2 in c:\\users\\shaurya\\appdata\\roaming\\python\\python310\\site-packages (from pandas) (2.9.0.post0)\n",
      "Requirement already satisfied: pytz>=2020.1 in c:\\users\\shaurya\\appdata\\roaming\\python\\python310\\site-packages (from pandas) (2025.2)\n",
      "Requirement already satisfied: pillow>=8 in c:\\users\\shaurya\\appdata\\roaming\\python\\python310\\site-packages (from matplotlib) (11.3.0)\n",
      "Requirement already satisfied: pyparsing>=2.3.1 in c:\\users\\shaurya\\appdata\\roaming\\python\\python310\\site-packages (from matplotlib) (3.2.3)\n",
      "Requirement already satisfied: contourpy>=1.0.1 in c:\\users\\shaurya\\appdata\\roaming\\python\\python310\\site-packages (from matplotlib) (1.3.2)\n",
      "Requirement already satisfied: packaging>=20.0 in c:\\users\\shaurya\\appdata\\roaming\\python\\python310\\site-packages (from matplotlib) (25.0)\n",
      "Requirement already satisfied: kiwisolver>=1.3.1 in c:\\users\\shaurya\\appdata\\roaming\\python\\python310\\site-packages (from matplotlib) (1.4.9)\n",
      "Requirement already satisfied: cycler>=0.10 in c:\\users\\shaurya\\appdata\\roaming\\python\\python310\\site-packages (from matplotlib) (0.12.1)\n",
      "Requirement already satisfied: fonttools>=4.22.0 in c:\\users\\shaurya\\appdata\\roaming\\python\\python310\\site-packages (from matplotlib) (4.59.1)\n",
      "Requirement already satisfied: six>=1.5 in c:\\users\\shaurya\\appdata\\roaming\\python\\python310\\site-packages (from python-dateutil>=2.8.2->pandas) (1.17.0)\n"
     ]
    },
    {
     "name": "stderr",
     "output_type": "stream",
     "text": [
      "WARNING: You are using pip version 21.2.3; however, version 25.2 is available.\n",
      "You should consider upgrading via the 'C:\\Program Files\\Python310\\python.exe -m pip install --upgrade pip' command.\n"
     ]
    }
   ],
   "source": [
    "!pip install numpy pandas opencv-python seaborn matplotlib"
   ]
  },
  {
   "cell_type": "code",
   "execution_count": 4,
   "id": "a8dfd9b7-1c0c-4009-8ddc-6c23495851dd",
   "metadata": {},
   "outputs": [],
   "source": [
    "import pandas as pd\n",
    "import numpy as np\n",
    "import os, shutil\n",
    "import cv2\n",
    "import matplotlib.pyplot as plt\n",
    "import matplotlib.image as mpimg\n",
    "import seaborn as sns\n",
    "%matplotlib inline\n",
    "plt.style.use('ggplot')\n"
   ]
  },
  {
   "cell_type": "code",
   "execution_count": 5,
   "id": "f381b4b7-59d8-461e-b972-394315687bb1",
   "metadata": {},
   "outputs": [],
   "source": [
    "# Dataset Preprocessing\n",
    "import zipfile\n",
    "z = zipfile.ZipFile('./archive.zip')\n",
    "z.extractall()"
   ]
  },
  {
   "cell_type": "code",
   "execution_count": 6,
   "id": "a486c229-be5e-4072-aad3-7b6d371ec0d0",
   "metadata": {},
   "outputs": [
    {
     "ename": "FileExistsError",
     "evalue": "[WinError 183] Cannot create a file when that file already exists: 'C:\\\\Users\\\\SHAURYA\\\\Desktop\\\\Brain-Tumor-Classification\\\\Training\\\\glioma\\\\Tr-glTr_0000.jpg' -> 'C:\\\\Users\\\\SHAURYA\\\\Desktop\\\\Brain-Tumor-Classification\\\\Training\\\\glioma\\\\Y_0.jpg'",
     "output_type": "error",
     "traceback": [
      "\u001b[1;31m---------------------------------------------------------------------------\u001b[0m",
      "\u001b[1;31mFileExistsError\u001b[0m                           Traceback (most recent call last)",
      "Cell \u001b[1;32mIn[6], line 12\u001b[0m\n\u001b[0;32m      9\u001b[0m             source \u001b[38;5;241m=\u001b[39m os\u001b[38;5;241m.\u001b[39mpath\u001b[38;5;241m.\u001b[39mjoin(subfolder_path, image)\n\u001b[0;32m     10\u001b[0m             destination \u001b[38;5;241m=\u001b[39m os\u001b[38;5;241m.\u001b[39mpath\u001b[38;5;241m.\u001b[39mjoin(subfolder_path, \u001b[38;5;124mf\u001b[39m\u001b[38;5;124m\"\u001b[39m\u001b[38;5;124mY_\u001b[39m\u001b[38;5;132;01m{\u001b[39;00mcount\u001b[38;5;132;01m}\u001b[39;00m\u001b[38;5;124m.jpg\u001b[39m\u001b[38;5;124m\"\u001b[39m)\n\u001b[1;32m---> 12\u001b[0m             \u001b[43mos\u001b[49m\u001b[38;5;241;43m.\u001b[39;49m\u001b[43mrename\u001b[49m\u001b[43m(\u001b[49m\u001b[43msource\u001b[49m\u001b[43m,\u001b[49m\u001b[43m \u001b[49m\u001b[43mdestination\u001b[49m\u001b[43m)\u001b[49m\n\u001b[0;32m     13\u001b[0m             count \u001b[38;5;241m+\u001b[39m\u001b[38;5;241m=\u001b[39m \u001b[38;5;241m1\u001b[39m\n\u001b[0;32m     15\u001b[0m \u001b[38;5;28mprint\u001b[39m(\u001b[38;5;124m\"\u001b[39m\u001b[38;5;124mRenaming carried out successfully\u001b[39m\u001b[38;5;124m\"\u001b[39m)\n",
      "\u001b[1;31mFileExistsError\u001b[0m: [WinError 183] Cannot create a file when that file already exists: 'C:\\\\Users\\\\SHAURYA\\\\Desktop\\\\Brain-Tumor-Classification\\\\Training\\\\glioma\\\\Tr-glTr_0000.jpg' -> 'C:\\\\Users\\\\SHAURYA\\\\Desktop\\\\Brain-Tumor-Classification\\\\Training\\\\glioma\\\\Y_0.jpg'"
     ]
    }
   ],
   "source": [
    "folder = r\"C:\\Users\\SHAURYA\\Desktop\\Brain-Tumor-Classification\\Training\"\n",
    "count = 0\n",
    "\n",
    "for subfolder in os.listdir(folder):\n",
    "    if subfolder != 'notumor':   # skip 'notumor'\n",
    "        subfolder_path = os.path.join(folder, subfolder)\n",
    "        \n",
    "        for image in os.listdir(subfolder_path):\n",
    "            source = os.path.join(subfolder_path, image)\n",
    "            destination = os.path.join(subfolder_path, f\"Y_{count}.jpg\")\n",
    "            \n",
    "            os.rename(source, destination)\n",
    "            count += 1\n",
    "\n",
    "print(\"Renaming carried out successfully\")"
   ]
  },
  {
   "cell_type": "code",
   "execution_count": null,
   "id": "c39fd3c9-daa9-40ce-8f24-d7ff5cef76fe",
   "metadata": {},
   "outputs": [],
   "source": [
    "folder = r\"C:\\Users\\SHAURYA\\Desktop\\Brain-Tumor-Classification\\Training\"\n",
    "count = 0\n",
    "\n",
    "for subfolder in os.listdir(folder):\n",
    "    if subfolder == 'notumor':   #'notumor'\n",
    "        subfolder_path = os.path.join(folder, subfolder)\n",
    "        \n",
    "        for image in os.listdir(subfolder_path):\n",
    "            source = os.path.join(subfolder_path, image)\n",
    "            destination = os.path.join(subfolder_path, f\"N_{count}.jpg\")\n",
    "            \n",
    "            os.rename(source, destination)\n",
    "            count += 1\n",
    "\n",
    "print(\"Renaming carried out successfully\")"
   ]
  },
  {
   "cell_type": "code",
   "execution_count": null,
   "id": "6704c512-c803-46c2-bcc2-375ea3e39ea9",
   "metadata": {},
   "outputs": [],
   "source": [
    "# Completed Data Preprocessing Starting EDA(Exploratory Data Analysis)"
   ]
  },
  {
   "cell_type": "code",
   "execution_count": 10,
   "id": "bcb55853-3887-4454-8bca-5ba862dd1d7a",
   "metadata": {},
   "outputs": [
    {
     "name": "stdout",
     "output_type": "stream",
     "text": [
      "8234\n",
      "3190\n"
     ]
    }
   ],
   "source": [
    "folder = r\"C:\\Users\\SHAURYA\\Desktop\\Brain-Tumor-Classification\\Training\"\n",
    "count_tumor = 0\n",
    "count_notumor = 0\n",
    "for subfolder in os.listdir(folder):\n",
    "    if subfolder == 'notumor':   #'notumor'\n",
    "        subfolder_path = os.path.join(folder, subfolder)\n",
    "        \n",
    "        for image in os.listdir(subfolder_path):\n",
    "            count_notumor += 1\n",
    "    else:\n",
    "        subfolder_path = os.path.join(folder, subfolder)\n",
    "        \n",
    "        for image in os.listdir(subfolder_path):\n",
    "            count_tumor += 1\n",
    "print(count_tumor)\n",
    "print(count_notumor)\n"
   ]
  },
  {
   "cell_type": "code",
   "execution_count": 11,
   "id": "b6ba3c06-453c-4778-8096-bd00331fbd7d",
   "metadata": {},
   "outputs": [
    {
     "data": {
      "image/png": "[encoded data removed]",
      "text/plain": [
       "<Figure size 500x700 with 1 Axes>"
      ]
     },
     "metadata": {},
     "output_type": "display_data"
    }
   ],
   "source": [
    "data = {\"tumorous\": count_tumor, \"non-tumorous\": count_notumor}\n",
    "typex = list(data.keys())\n",
    "values = list(data.values())\n",
    "\n",
    "# Calculate percentages\n",
    "total = sum(values)\n",
    "percentages = [(v / total) * 100 for v in values]\n",
    "\n",
    "fig = plt.figure(figsize=(5,7))\n",
    "bars = plt.bar(typex, values, color=\"blue\")\n",
    "\n",
    "# Add percentage text above bars\n",
    "for bar, pct in zip(bars, percentages):\n",
    "    height = bar.get_height()\n",
    "    plt.text(bar.get_x() + bar.get_width()/2., height,\n",
    "             f'{pct:.2f}%', ha='center', va='bottom', fontsize=12, color=\"black\")\n",
    "\n",
    "plt.xlabel(\"Data\")\n",
    "plt.ylabel(\"No. of Brain MRI Images\")\n",
    "plt.title(\"Tumorous vs Non-Tumorous MRI Distribution\")\n",
    "plt.show()\n"
   ]
  },
  {
   "cell_type": "code",
   "execution_count": 12,
   "id": "15ba9726-c7c6-4dc9-bd4d-2761fa387188",
   "metadata": {},
   "outputs": [
    {
     "name": "stdout",
     "output_type": "stream",
     "text": [
      "Defaulting to user installation because normal site-packages is not writeable\n",
      "Requirement already satisfied: tensorflow in c:\\users\\shaurya\\appdata\\roaming\\python\\python310\\site-packages (2.20.0)\n",
      "Requirement already satisfied: keras in c:\\users\\shaurya\\appdata\\roaming\\python\\python310\\site-packages (3.11.3)\n",
      "Requirement already satisfied: numpy in c:\\users\\shaurya\\appdata\\roaming\\python\\python310\\site-packages (2.1.3)\n",
      "Requirement already satisfied: pandas in c:\\users\\shaurya\\appdata\\roaming\\python\\python310\\site-packages (2.3.2)\n",
      "Requirement already satisfied: opencv-python in c:\\users\\shaurya\\appdata\\roaming\\python\\python310\\site-packages (4.12.0.88)\n",
      "Requirement already satisfied: seaborn in c:\\users\\shaurya\\appdata\\roaming\\python\\python310\\site-packages (0.13.2)\n",
      "Requirement already satisfied: matplotlib in c:\\users\\shaurya\\appdata\\roaming\\python\\python310\\site-packages (3.10.5)\n",
      "Requirement already satisfied: scikit-learn in c:\\users\\shaurya\\appdata\\roaming\\python\\python310\\site-packages (1.7.1)\n",
      "Requirement already satisfied: termcolor>=1.1.0 in c:\\users\\shaurya\\appdata\\roaming\\python\\python310\\site-packages (from tensorflow) (3.1.0)\n",
      "Requirement already satisfied: setuptools in c:\\program files\\python310\\lib\\site-packages (from tensorflow) (57.4.0)\n",
      "Requirement already satisfied: tensorboard~=2.20.0 in c:\\users\\shaurya\\appdata\\roaming\\python\\python310\\site-packages (from tensorflow) (2.20.0)\n",
      "Requirement already satisfied: opt_einsum>=2.3.2 in c:\\users\\shaurya\\appdata\\roaming\\python\\python310\\site-packages (from tensorflow) (3.4.0)\n",
      "Requirement already satisfied: h5py>=3.11.0 in c:\\users\\shaurya\\appdata\\roaming\\python\\python310\\site-packages (from tensorflow) (3.14.0)\n",
      "Requirement already satisfied: typing_extensions>=3.6.6 in c:\\users\\shaurya\\appdata\\roaming\\python\\python310\\site-packages (from tensorflow) (4.14.1)\n",
      "Requirement already satisfied: astunparse>=1.6.0 in c:\\users\\shaurya\\appdata\\roaming\\python\\python310\\site-packages (from tensorflow) (1.6.3)\n",
      "Requirement already satisfied: six>=1.12.0 in c:\\users\\shaurya\\appdata\\roaming\\python\\python310\\site-packages (from tensorflow) (1.17.0)\n",
      "Requirement already satisfied: grpcio<2.0,>=1.24.3 in c:\\users\\shaurya\\appdata\\roaming\\python\\python310\\site-packages (from tensorflow) (1.74.0)\n",
      "Requirement already satisfied: wrapt>=1.11.0 in c:\\users\\shaurya\\appdata\\roaming\\python\\python310\\site-packages (from tensorflow) (1.17.2)\n",
      "Requirement already satisfied: libclang>=13.0.0 in c:\\users\\shaurya\\appdata\\roaming\\python\\python310\\site-packages (from tensorflow) (18.1.1)\n",
      "Requirement already satisfied: flatbuffers>=24.3.25 in c:\\users\\shaurya\\appdata\\roaming\\python\\python310\\site-packages (from tensorflow) (25.2.10)\n",
      "Requirement already satisfied: ml_dtypes<1.0.0,>=0.5.1 in c:\\users\\shaurya\\appdata\\roaming\\python\\python310\\site-packages (from tensorflow) (0.5.3)\n",
      "Requirement already satisfied: gast!=0.5.0,!=0.5.1,!=0.5.2,>=0.2.1 in c:\\users\\shaurya\\appdata\\roaming\\python\\python310\\site-packages (from tensorflow) (0.4.0)\n",
      "Requirement already satisfied: google_pasta>=0.1.1 in c:\\users\\shaurya\\appdata\\roaming\\python\\python310\\site-packages (from tensorflow) (0.2.0)\n",
      "Requirement already satisfied: requests<3,>=2.21.0 in c:\\users\\shaurya\\appdata\\roaming\\python\\python310\\site-packages (from tensorflow) (2.32.4)\n",
      "Requirement already satisfied: protobuf>=5.28.0 in c:\\users\\shaurya\\appdata\\roaming\\python\\python310\\site-packages (from tensorflow) (5.29.5)\n",
      "Requirement already satisfied: packaging in c:\\users\\shaurya\\appdata\\roaming\\python\\python310\\site-packages (from tensorflow) (25.0)\n",
      "Requirement already satisfied: absl-py>=1.0.0 in c:\\users\\shaurya\\appdata\\roaming\\python\\python310\\site-packages (from tensorflow) (2.3.1)\n",
      "Requirement already satisfied: rich in c:\\users\\shaurya\\appdata\\roaming\\python\\python310\\site-packages (from keras) (14.1.0)\n",
      "Requirement already satisfied: optree in c:\\users\\shaurya\\appdata\\roaming\\python\\python310\\site-packages (from keras) (0.17.0)\n",
      "Requirement already satisfied: namex in c:\\users\\shaurya\\appdata\\roaming\\python\\python310\\site-packages (from keras) (0.1.0)\n",
      "Requirement already satisfied: python-dateutil>=2.8.2 in c:\\users\\shaurya\\appdata\\roaming\\python\\python310\\site-packages (from pandas) (2.9.0.post0)\n",
      "Requirement already satisfied: tzdata>=2022.7 in c:\\users\\shaurya\\appdata\\roaming\\python\\python310\\site-packages (from pandas) (2025.2)\n",
      "Requirement already satisfied: pytz>=2020.1 in c:\\users\\shaurya\\appdata\\roaming\\python\\python310\\site-packages (from pandas) (2025.2)\n",
      "Requirement already satisfied: contourpy>=1.0.1 in c:\\users\\shaurya\\appdata\\roaming\\python\\python310\\site-packages (from matplotlib) (1.3.2)\n",
      "Requirement already satisfied: fonttools>=4.22.0 in c:\\users\\shaurya\\appdata\\roaming\\python\\python310\\site-packages (from matplotlib) (4.59.1)\n",
      "Requirement already satisfied: kiwisolver>=1.3.1 in c:\\users\\shaurya\\appdata\\roaming\\python\\python310\\site-packages (from matplotlib) (1.4.9)\n",
      "Requirement already satisfied: pyparsing>=2.3.1 in c:\\users\\shaurya\\appdata\\roaming\\python\\python310\\site-packages (from matplotlib) (3.2.3)\n",
      "Requirement already satisfied: cycler>=0.10 in c:\\users\\shaurya\\appdata\\roaming\\python\\python310\\site-packages (from matplotlib) (0.12.1)\n",
      "Requirement already satisfied: pillow>=8 in c:\\users\\shaurya\\appdata\\roaming\\python\\python310\\site-packages (from matplotlib) (11.3.0)\n",
      "Requirement already satisfied: scipy>=1.8.0 in c:\\users\\shaurya\\appdata\\roaming\\python\\python310\\site-packages (from scikit-learn) (1.15.3)\n",
      "Requirement already satisfied: threadpoolctl>=3.1.0 in c:\\users\\shaurya\\appdata\\roaming\\python\\python310\\site-packages (from scikit-learn) (3.6.0)\n",
      "Requirement already satisfied: joblib>=1.2.0 in c:\\users\\shaurya\\appdata\\roaming\\python\\python310\\site-packages (from scikit-learn) (1.5.1)\n",
      "Requirement already satisfied: wheel<1.0,>=0.23.0 in c:\\users\\shaurya\\appdata\\roaming\\python\\python310\\site-packages (from astunparse>=1.6.0->tensorflow) (0.45.1)\n",
      "Requirement already satisfied: idna<4,>=2.5 in c:\\users\\shaurya\\appdata\\roaming\\python\\python310\\site-packages (from requests<3,>=2.21.0->tensorflow) (3.10)\n",
      "Requirement already satisfied: urllib3<3,>=1.21.1 in c:\\users\\shaurya\\appdata\\roaming\\python\\python310\\site-packages (from requests<3,>=2.21.0->tensorflow) (2.5.0)\n",
      "Requirement already satisfied: charset_normalizer<4,>=2 in c:\\users\\shaurya\\appdata\\roaming\\python\\python310\\site-packages (from requests<3,>=2.21.0->tensorflow) (3.4.2)\n",
      "Requirement already satisfied: certifi>=2017.4.17 in c:\\users\\shaurya\\appdata\\roaming\\python\\python310\\site-packages (from requests<3,>=2.21.0->tensorflow) (2025.8.3)\n",
      "Requirement already satisfied: markdown>=2.6.8 in c:\\users\\shaurya\\appdata\\roaming\\python\\python310\\site-packages (from tensorboard~=2.20.0->tensorflow) (3.8.2)\n",
      "Requirement already satisfied: tensorboard-data-server<0.8.0,>=0.7.0 in c:\\users\\shaurya\\appdata\\roaming\\python\\python310\\site-packages (from tensorboard~=2.20.0->tensorflow) (0.7.2)\n",
      "Requirement already satisfied: werkzeug>=1.0.1 in c:\\users\\shaurya\\appdata\\roaming\\python\\python310\\site-packages (from tensorboard~=2.20.0->tensorflow) (3.1.3)\n",
      "Requirement already satisfied: MarkupSafe>=2.1.1 in c:\\users\\shaurya\\appdata\\roaming\\python\\python310\\site-packages (from werkzeug>=1.0.1->tensorboard~=2.20.0->tensorflow) (3.0.2)\n",
      "Requirement already satisfied: pygments<3.0.0,>=2.13.0 in c:\\users\\shaurya\\appdata\\roaming\\python\\python310\\site-packages (from rich->keras) (2.19.2)\n",
      "Requirement already satisfied: markdown-it-py>=2.2.0 in c:\\users\\shaurya\\appdata\\roaming\\python\\python310\\site-packages (from rich->keras) (3.0.0)\n",
      "Requirement already satisfied: mdurl~=0.1 in c:\\users\\shaurya\\appdata\\roaming\\python\\python310\\site-packages (from markdown-it-py>=2.2.0->rich->keras) (0.1.2)\n"
     ]
    },
    {
     "name": "stderr",
     "output_type": "stream",
     "text": [
      "WARNING: You are using pip version 21.2.3; however, version 25.2 is available.\n",
      "You should consider upgrading via the 'C:\\Program Files\\Python310\\python.exe -m pip install --upgrade pip' command.\n"
     ]
    }
   ],
   "source": [
    "!pip install tensorflow keras numpy pandas opencv-python seaborn matplotlib scikit-learn"
   ]
  },
  {
   "cell_type": "code",
   "execution_count": 13,
   "id": "20f36661-4157-42d7-95f7-4b369de71b8f",
   "metadata": {},
   "outputs": [],
   "source": [
    "import tensorflow as tf\n",
    "from tensorflow.keras.preprocessing.image import ImageDataGenerator\n",
    "from tensorflow.keras.models import Model\n",
    "from tensorflow.keras.layers import Flatten,Dense,Dropout\n",
    "from tensorflow.keras.applications.vgg19 import VGG19\n",
    "from tensorflow.keras.optimizers import SGD,Adam\n",
    "from tensorflow.keras.callbacks import ModelCheckpoint,EarlyStopping,ReduceLROnPlateau"
   ]
  },
  {
   "cell_type": "code",
   "execution_count": 14,
   "id": "6bcdeeaa-da16-4c0f-974d-788c86539649",
   "metadata": {},
   "outputs": [],
   "source": [
    "def timing(sec_elapsed):\n",
    "    h = int(sec_elapsed/(60*60))\n",
    "    m = int(sec_elapsed % (60*60)/60)\n",
    "    s = sec_elapsed%60\n",
    "    return f\"{h}:{m}:{s}\""
   ]
  },
  {
   "cell_type": "code",
   "execution_count": 26,
   "id": "a2333374-2ed0-4bce-b668-9c5346858b2b",
   "metadata": {},
   "outputs": [],
   "source": [
    "def augmentation(file_dir,n_generated_samples,save_to_dir):\n",
    "    data_gen = ImageDataGenerator(rotation_range=20,\n",
    "                       zoom_range=0.2,\n",
    "                       width_shift_range=0.2,\n",
    "                       height_shift_range=0.2,\n",
    "                       shear_range=0.2,\n",
    "                       vertical_flip=True,\n",
    "                       brightness_range=(0.3,1.0),\n",
    "                       horizontal_flip=True,\n",
    "                       fill_mode=\"nearest\",\n",
    "                        )\n",
    "\n",
    "    n_to_generate = n_generated_samples\n",
    "\n",
    "    if n_to_generate <= 0:\n",
    "        return\n",
    "    images = os.listdir(file_dir)\n",
    "    i = 0\n",
    "    while i < n_to_generate:\n",
    "        for filename in images:\n",
    "            filepath = os.path.join(file_dir,filename)\n",
    "            image = cv2.imread(filepath)\n",
    "            if image is None:\n",
    "                continue\n",
    "            image = cv2.cvtColor(image,cv2.COLOR_BGR2RGB)\n",
    "            image = np.expand_dims(image,axis=0)\n",
    "\n",
    "            save_prefix = \"aug_\" + os.path.splitext(filename)[0]\n",
    "            for batch in data_gen.flow(\n",
    "                x = image,\n",
    "                batch_size = 1,\n",
    "                save_to_dir = save_to_dir,\n",
    "                save_prefix = save_prefix,\n",
    "                save_format = 'jpg'\n",
    "            ):\n",
    "                i += 1\n",
    "                if i >= n_to_generate:\n",
    "                    break\n",
    "            if i >= n_to_generate:\n",
    "                break\n",
    "\n",
    "    "
   ]
  },
  {
   "cell_type": "code",
   "execution_count": 27,
   "id": "fd623524-53d0-4ddd-93c6-972733c4b955",
   "metadata": {},
   "outputs": [
    {
     "name": "stdout",
     "output_type": "stream",
     "text": [
      "5044\n",
      "augmentation completed\n"
     ]
    }
   ],
   "source": [
    "glioma = r\"C:\\Users\\SHAURYA\\Desktop\\Brain-Tumor-Classification\\Training\\glioma\"\n",
    "meningioma = r\"C:\\Users\\SHAURYA\\Desktop\\Brain-Tumor-Classification\\Training\\meningioma\"\n",
    "pituitary = r\"C:\\Users\\SHAURYA\\Desktop\\Brain-Tumor-Classification\\Training\\pituitary\"\n",
    "notumor = r\"C:\\Users\\SHAURYA\\Desktop\\Brain-Tumor-Classification\\Training\\notumor\"\n",
    "data_augmented_save_path = r\"C:\\Users\\SHAURYA\\Desktop\\Brain-Tumor-Classification\\Augmented\"\n",
    "\n",
    "glioma_count = len(os.listdir(glioma))\n",
    "meningioma_count = len(os.listdir(meningioma))\n",
    "pituitary_count = len(os.listdir(pituitary))\n",
    "notumor_count = len(os.listdir(notumor))\n",
    "\n",
    "tumor_count = glioma_count+meningioma_count+pituitary_count\n",
    "\n",
    "\n",
    "\n",
    "glioma_aug = os.path.join(data_augmented_save_path, \"glioma\")\n",
    "meningioma_aug = os.path.join(data_augmented_save_path, \"meningioma\")\n",
    "pituitary_aug = os.path.join(data_augmented_save_path, \"pituitary\")\n",
    "notumor_aug = os.path.join(data_augmented_save_path, \"notumor\")\n",
    "\n",
    "os.makedirs(glioma_aug, exist_ok=True)\n",
    "os.makedirs(meningioma_aug, exist_ok=True)\n",
    "os.makedirs(pituitary_aug, exist_ok=True)\n",
    "os.makedirs(notumor_aug, exist_ok=True)\n",
    "\n",
    "if tumor_count > notumor_count:\n",
    "    n_to_generate = tumor_count - notumor_count\n",
    "    print(n_to_generate)\n",
    "    augmentation(file_dir=notumor,n_generated_samples=n_to_generate,save_to_dir=notumor_aug)\n",
    "elif notumor_count > tumor_count:\n",
    "    n_to_generate = notumor_count - tumor_count\n",
    "    per_class = n_to_generate // 3\n",
    "\n",
    "    augmentation(file_dir=glioma,n_generated_samples=per_class,save_to_dir=glioma_aug)\n",
    "    augmentation(file_dir=meningioma,n_generated_samples=per_class,save_to_dir=meningioma_aug)\n",
    "    augmentation(file_dir=pituitary,n_generated_samples=per_class,save_to_dir=pituitary_aug)\n",
    "print(\"augmentation completed\")"
   ]
  },
  {
   "cell_type": "code",
   "execution_count": 28,
   "id": "5c4c0e6c-8a32-47aa-97b0-58654c35c33f",
   "metadata": {},
   "outputs": [
    {
     "name": "stdout",
     "output_type": "stream",
     "text": [
      "0\n",
      "3993\n",
      "8234\n",
      "7183\n"
     ]
    }
   ],
   "source": [
    "folder = r\"C:\\Users\\SHAURYA\\Desktop\\Brain-Tumor-Classification\\Augmented\"\n",
    "count_tumor = 0\n",
    "count_notumor = 0\n",
    "for subfolder in os.listdir(folder):\n",
    "    if subfolder == 'notumor':   #'notumor'\n",
    "        subfolder_path = os.path.join(folder, subfolder)\n",
    "        \n",
    "        for image in os.listdir(subfolder_path):\n",
    "            count_notumor += 1\n",
    "    else:\n",
    "        subfolder_path = os.path.join(folder, subfolder)\n",
    "        \n",
    "        for image in os.listdir(subfolder_path):\n",
    "            count_tumor += 1\n",
    "print(count_tumor)\n",
    "print(count_notumor)\n",
    "folder = r\"C:\\Users\\SHAURYA\\Desktop\\Brain-Tumor-Classification\\Training\"\n",
    "for subfolder in os.listdir(folder):\n",
    "    if subfolder == 'notumor':   #'notumor'\n",
    "        subfolder_path = os.path.join(folder, subfolder)\n",
    "        \n",
    "        for image in os.listdir(subfolder_path):\n",
    "            count_notumor += 1\n",
    "    else:\n",
    "        subfolder_path = os.path.join(folder, subfolder)\n",
    "        \n",
    "        for image in os.listdir(subfolder_path):\n",
    "            count_tumor += 1\n",
    "print(count_tumor)\n",
    "print(count_notumor)\n"
   ]
  },
  {
   "cell_type": "code",
   "execution_count": 29,
   "id": "15efc986-c0f3-456b-9c54-68d9672a537f",
   "metadata": {},
   "outputs": [
    {
     "data": {
      "image/png": "[encoded data removed]",
      "text/plain": [
       "<Figure size 500x700 with 1 Axes>"
      ]
     },
     "metadata": {},
     "output_type": "display_data"
    }
   ],
   "source": [
    "data = {\"tumorous\": count_tumor, \"non-tumorous\": count_notumor}\n",
    "typex = list(data.keys())\n",
    "values = list(data.values())\n",
    "\n",
    "# Calculate percentages\n",
    "total = sum(values)\n",
    "percentages = [(v / total) * 100 for v in values]\n",
    "\n",
    "fig = plt.figure(figsize=(5,7))\n",
    "bars = plt.bar(typex, values, color=\"blue\")\n",
    "\n",
    "# Add percentage text above bars\n",
    "for bar, pct in zip(bars, percentages):\n",
    "    height = bar.get_height()\n",
    "    plt.text(bar.get_x() + bar.get_width()/2., height,\n",
    "             f'{pct:.2f}%', ha='center', va='bottom', fontsize=12, color=\"black\")\n",
    "\n",
    "plt.xlabel(\"Data\")\n",
    "plt.ylabel(\"No. of Brain MRI Images\")\n",
    "plt.title(\"Tumorous vs Non-Tumorous MRI Distribution\")\n",
    "plt.show()\n"
   ]
  },
  {
   "cell_type": "code",
   "execution_count": null,
   "id": "d8fb5bc9-ae4d-4092-a258-f46866f7f805",
   "metadata": {},
   "outputs": [],
   "source": []
  },
  {
   "cell_type": "code",
   "execution_count": null,
   "id": "d5db4a3a-23c5-4396-bffa-425e365a62b2",
   "metadata": {},
   "outputs": [],
   "source": []
  }
 ],
 "metadata": {
  "kernelspec": {
   "display_name": "Python 3 (ipykernel)",
   "language": "python",
   "name": "python3"
  },
  "language_info": {
   "codemirror_mode": {
    "name": "ipython",
    "version": 3
   },
   "file_extension": ".py",
   "mimetype": "text/x-python",
   "name": "python",
   "nbconvert_exporter": "python",
   "pygments_lexer": "ipython3",
   "version": "3.10.0"
  }
 },
 "nbformat": 4,
 "nbformat_minor": 5
}
